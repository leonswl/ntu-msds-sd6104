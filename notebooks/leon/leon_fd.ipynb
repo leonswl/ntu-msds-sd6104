{
 "cells": [
  {
   "cell_type": "markdown",
   "metadata": {},
   "source": [
    "## Functional Dependency Discovery and Validation"
   ]
  },
  {
   "cell_type": "code",
   "execution_count": 1,
   "metadata": {},
   "outputs": [],
   "source": [
    "from typing import Tuple, List, Dict, Any\n",
    "from dataclasses import dataclass, field\n",
    "\n",
    "import pandas as pd\n",
    "import desbordante\n",
    "import desbordante.fd.algorithms as fd_algorithms\n",
    "\n",
    "from pprint import pprint"
   ]
  },
  {
   "cell_type": "code",
   "execution_count": 2,
   "metadata": {},
   "outputs": [
    {
     "data": {
      "application/vnd.microsoft.datawrangler.viewer.v0+json": {
       "columns": [
        {
         "name": "index",
         "rawType": "int64",
         "type": "integer"
        },
        {
         "name": "dba_name",
         "rawType": "object",
         "type": "string"
        },
        {
         "name": "license_",
         "rawType": "Int64",
         "type": "integer"
        },
        {
         "name": "facility_type",
         "rawType": "object",
         "type": "string"
        },
        {
         "name": "risk",
         "rawType": "object",
         "type": "string"
        },
        {
         "name": "address",
         "rawType": "object",
         "type": "string"
        },
        {
         "name": "city",
         "rawType": "object",
         "type": "string"
        },
        {
         "name": "zip",
         "rawType": "Int64",
         "type": "integer"
        },
        {
         "name": "inspection_date",
         "rawType": "object",
         "type": "string"
        },
        {
         "name": "results",
         "rawType": "object",
         "type": "string"
        },
        {
         "name": "violations",
         "rawType": "object",
         "type": "string"
        },
        {
         "name": "latitude",
         "rawType": "float64",
         "type": "float"
        },
        {
         "name": "longitude",
         "rawType": "float64",
         "type": "float"
        }
       ],
       "conversionMethod": "pd.DataFrame",
       "ref": "e79f07db-fe5e-4b9e-a968-f08028afad9e",
       "rows": [
        [
         "0",
         "BLOOMING BUD DAYCARE",
         "2215789",
         "Daycare Combo 1586",
         "Risk 1 (High)",
         "5715 N LINCOLN AVE",
         "CHICAGO",
         "60659",
         "03/07/2013",
         "Pass",
         "32. FOOD AND NON-FOOD CONTACT SURFACES PROPERLY DESIGNED, CONSTRUCTED AND MAINTAINED - Comments: PROVIDE A DRAIN BOARD AT THREE COMPARTMENT SINK. | 32. FOOD AND NON-FOOD CONTACT SURFACES PROPERLY DESIGNED, CONSTRUCTED AND MAINTAINED - Comments: OBSERVED RUSTY GREASE TRAP UNDER THE THREE COMPARTMENT SINK, INSTRUCTED TO PAINT AND MAINTAIN.  PROVIDE SPLASH GUARD BETWEEN THE  EXPOSED HAND SINK ON BOTH SIDE AND PREP COUNTER | 34. FLOORS: CONSTRUCTED PER CODE, CLEANED, GOOD REPAIR, COVING INSTALLED, DUST-LESS CLEANING METHODS USED - Comments: INSTRUCTED TO SWEEP FLOOR INSIDE THE FURNACE AREA.  OBSERVED AT SECOND FLOOR UNUSED CLASSROOMS WITH ITEMS STORED ON FLOOR, INSTRUCTED TO ELEVATE 6\" OFF THE FLOOR,AND ORGANIZE AREA.  RESEAL BASEBOARD UNDER THE THREE COMPARTMENT SINK IN KITCHEN. | 35. WALLS, CEILINGS, ATTACHED EQUIPMENT CONSTRUCTED PER CODE: GOOD REPAIR, SURFACES CLEAN AND DUST-LESS CLEANING METHODS - Comments: OBSERVED DEAD BULB IN THE KITCHEN, INSTRUCTED TO REPLACE AND PROVIDE LIGHT SHIELD AT SAID FIXTURE",
         "41.98538950526786",
         "-87.69873407149943"
        ],
        [
         "1",
         "Babas Halal",
         "2684170",
         "Restaurant",
         "Risk 1 (High)",
         "7901 S DAMEN AVE",
         "CHICAGO",
         "60620",
         "12/03/2024",
         "Fail",
         "1. PERSON IN CHARGE PRESENT, DEMONSTRATES KNOWLEDGE, AND PERFORMS DUTIES - Comments: PIC DOESN'T HAVE A CERTIFIED FOOD MANAGERS CERTIFICATE MUST PROVIDE AND MAINTAIN.(PRIORITY FOUNDATION 7-38-012) | 2. CITY OF CHICAGO FOOD SERVICE SANITATION CERTIFICATE - Comments: OBSERVED NO CERTIFIED FOOD MANAGER ON DUTY WHILE TCS FOODS ARE BEING PREPARED, HANDLED, AND SERVED, SUCH AS (FRIED CHICKEN, STEAK, GRILLED CHICKEN, TACOS, ETC.)MUST BE ON SITE AT ALL TIMES. MANAGER ARRIVED ON SITE AT 4:07 P.M. (PRIORITY FOUNDATION 7-38-012)(CITATION ISSUED) | 10. ADEQUATE HANDWASHING SINKS PROPERLY SUPPLIED AND ACCESSIBLE - Comments: THE HAND WASHING SINK WAS NOT ACCESSIBLE; OBSERVED A SMALL PAN AND A SCRUBBER INSIDE OF THE HAND SINK; ARTICLES WERE REMOVED DURING INSPECTION. MUST BE ACCESSIBLE AT ALL TIMES.(PRIORITY FOUNDATION 7-38-030(C)(CITATION ISSUED)(COS) | 10. ADEQUATE HANDWASHING SINKS PROPERLY SUPPLIED AND ACCESSIBLE - Comments: OBSERVED NO SOAP AT HAND SINK IN FRONT PREP AREA SOAP WAS PROVIDED DURING INSPECTION MUST PROVIDE AND MAINTAIN AT ALL TIMES.(PRIORITY FOUNDATION 7-38-030(C)(COS)(CONSOLIDATED VIOLATION) | 10. ADEQUATE HANDWASHING SINKS PROPERLY SUPPLIED AND ACCESSIBLE - Comments: OBSERVED NO HAND DRYING DEVICES AT HAND SINK IN FRONT PREP AREA, AND STAFF TOILET ROOM PAPER TOWELS WERE PROVIDED DURING INSPECTION. MUST BE PROVIDED AND MAINTAINED AT ALL TIMES.(PRIORITY FOUNDATION 7-38-030(C)(COS)(CONSOLIDATED VIOLATION) | 10. ADEQUATE HANDWASHING SINKS PROPERLY SUPPLIED AND ACCESSIBLE - Comments: MUST PROVIDE A HAND WASHING SIGN IN TOILET ROOM. | 21. PROPER HOT HOLDING TEMPERATURES - Comments: OBSERVED IMPROPER TEMPERATURES OF COOKED FOODS SUCH AS 10 LBS. COOKED CHICKEN AT 121.8F AND 8LBS. SLICED GYROS MEAT-78.3F ON LOWER SHELF OF GRILL TABLE. THE PRODUCT WAS DISCARDED BY THE MANAGER. MUST HAVE HOT HOLDING FOODS AT 135.0F OR ABOVE. APPX. 18LBS. $50. | 22. PROPER COLD HOLDING TEMPERATURES - Comments: OBSERVED IMPROPER TEMPERATURE OF 6LBS.COOKED CHICKEN WINGS AT 61.0F IN WALK-IN COOLER.THE PRODUCT WAS DISCARDED BY THE MANAGER. MUST HAVE COLD-HOLDING FOODS AT 41.0F OR BELOW.APPX. 6LBS. $20.(PRIORITY 7-38-005)(COS)(CONSOLIDATED VIOLATION) | 39. CONTAMINATION PREVENTED DURING FOOD PREPARATION, STORAGE & DISPLAY - Comments: MUST ELEVATE BOXES OF COOKING OIL FROM FLOOR AND STORE PROPERLY. | 41. WIPING CLOTHS: PROPERLY USED & STORED - Comments: MUST STORE WIPING CLOTHS IN A SANITIZING SOLUTION WHEN NOT IN USE ON SURFACES. | 47. FOOD & NON-FOOD CONTACT SURFACES CLEANABLE, PROPERLY DESIGNED, CONSTRUCTED & USED - Comments: MUST REMOVE RUST FROM WALK-IN COOLER SHELVING UNITS.MUST REPAIR OR REPLACE DAMAGED LOWER SHELF UNDER HAND SINK VANITY IN FRONT PREP AREA. MUST REMOVE BRICKS HOLDING UP GRILL THAT HAVE EXCESSIVE GREASE BUILD UP; THEY'RE NOT EASILY CLEANABLE. | 47. FOOD & NON-FOOD CONTACT SURFACES CLEANABLE, PROPERLY DESIGNED, CONSTRUCTED & USED - Comments: MUST PROVIDE SINK STOPPERS FOR 3- COMPARTMENT SINK. | 49. NON-FOOD/FOOD CONTACT SURFACES CLEAN - Comments: MUST CLEAN GREASE AND FOOD DEBRIS BUILD UP FROM SERVICE COUNTER SHELVING UNITS, OVERHEAD STORAGE SHELVES,WALK IN COOLER FANGUARD COVERS. | 51. PLUMBING INSTALLED; PROPER BACKFLOW DEVICES - Comments: MUST REPAIR OR REPLACE LEAKY BACKFLOW DEVICE ON MOPSINK. | 54. GARBAGE & REFUSE PROPERLY DISPOSED; FACILITIES MAINTAINED - Comments: OBSERVED ALL THREE OUTSIDE GARBAGE DUMPSTERS OVERFLOWING WITH TRASH AND BOXES ABOVE RIM LIDS WIDE OPEN NOT ABLE TO CLOSE DUE TO OVERFLOWING OF GARBAGE. MUST HAVE LIDS CLOSED AND TIGHT FITTING.(PRIORITY FOUNDATION 7-38-020(B)(CITATION ISSUED)  | 55. PHYSICAL FACILITIES INSTALLED, MAINTAINED & CLEAN - Comments: MUST CLEAN DEBRIS BUILD UP FROM WALLS. | 55. PHYSICAL FACILITIES INSTALLED, MAINTAINED & CLEAN - Comments: MUST CLEAN FOOD DEBRIS BUILD UP FROM FLOOR UNDER,AROUND,ALONG WALL BASES THROUGHOUT PREMISES AND FLOOR DRAINS. | 55. PHYSICAL FACILITIES INSTALLED, MAINTAINED & CLEAN - Comments: MUST PROVIDE A HOOKING SYSTEM TO HANG UP WET MOPS. | 60. PREVIOUS CORE VIOLATION CORRECTED - Comments: PREVIOUS CORE VIOLATIONS FROM REPORT #2596159 6/12/24 NOT CORRECTED.#36-4-204.112(B): MUST PROVIDE A THERMOMETER FOR DESSERT COOLER.:#37- 3-302.12: MUST LABEL SQUEEZE BOTTLES AND BULK CONTAINERS WHEN FOOD IS NOT IN ORIGINAL PACKAGE. #38-6-202.15: MUST REPAIR OR REPLACE THE GAP ALONG THE BOTTOM OF THE REAR DOOR. #39-3-305.11: MUST ELEVATE FOOD PRODUCTS FROM WALK-IN FREEZER FLOOR AND PROVIDE ADEQUATE SHELVING UNITS.#45-4-903.11(A; C): MUST STORE PLASTIC WEAR WITH HANDLES IN UPRIGHT POSITION.#47-4-101.19: MUST ELIMINATE FOIL AND CARDBOARD FROM GRILL TABLE, PREP TABLES AND AROUND PIPES OF COOKING EQUIPMENT. #47-4-501.11: MUST REPAIR OR REPLACE WORN DOOR GASKETS ON 1 & 2- DOOR GLASS REACH-IN COOLER, LOOSE FANGUARD COVER IN WALK-IN FREEZER, EXTERIOR DOOR PANEL OF WALK IN COOLER IN POOR REPAIR.#47-4-501.12: MUST REPAIR OR REPLACE WORN & PITTED CUTTING BOARDS.#49-4-601.11(C): MUST CLEAN GREASE AND FOOD DEBRIS BUILD UP FROM GRILL TABLE, FRYER CABINETS, ROLLING CARTS, COUNTERTOP UNDERNEATH DRINK MACHINES.MUST REMOVE ICE FROM COMPRESSOR UNIT IN WALK-IN FREEZER.#55-6-201.13: MUST REPAIR OR REPLACE DAMAGED AND LOOSE WALL BASES IN REAR PREP/DISH WASHING AREA, MISSING CEILING TILE OVER DRINK MACHINES. #56-6-501.14: MUST CLEAN DEBRIS BUILD UP FROM BOTH FILTERS AT THE TOP OF COOKING EQUIPMENT. (PRIORITY FOUNDATION 7-42-090)(CITATION ISSUED)",
         "41.750189342293375",
         "-87.67298583977204"
        ],
        [
         "2",
         "FIRST ZABIHA MEAT BAZAAR",
         "2232559",
         "Grocery Store",
         "Risk 2 (Medium)",
         "2907 W DEVON AVE",
         "CHICAGO",
         "60659",
         "02/20/2013",
         "Fail",
         "11. ADEQUATE NUMBER, CONVENIENT, ACCESSIBLE, DESIGNED, AND MAINTAINED - Comments: INSTRUCTED TO INSTALL AN EXPOSED HAND SINK AT FRONT BUTCHER'S AREA, WITH HOT/COLD RUNNING WATER.INSTRUCTED TO FOLLOW CITY PLUMBING. PROVIDE SOAP AND PAPER TOWEL AT SAID SINK. | 30. FOOD IN ORIGINAL CONTAINER, PROPERLY LABELED: CUSTOMER ADVISORY POSTED AS NEEDED - Comments: LABEL REPACKED FOOD PRODUCTS IN COOLERS AND FREEZERS. | 32. FOOD AND NON-FOOD CONTACT SURFACES PROPERLY DESIGNED, CONSTRUCTED AND MAINTAINED - Comments: SPLASH GUARD IS NEEDED BETWEEN THE EXPOSED HAND SINK AND THREE COMPARTMENT SINKS.SURFACE MUST BE SMOOTH, CLEANABLE AND NON-ABSORBENT MATERIAL | 32. FOOD AND NON-FOOD CONTACT SURFACES PROPERLY DESIGNED, CONSTRUCTED AND MAINTAINED - Comments: AN ICE SCOOP CONTAINER IS NEEDED TO STORE ICE SCOOP. | 32. FOOD AND NON-FOOD CONTACT SURFACES PROPERLY DESIGNED, CONSTRUCTED AND MAINTAINED - Comments: OBSERVED RAW WOOD BUTCHER'S BLOCKS  AND PREP TABLES IN POOR REPAIR, INSTRUCTED TO REPAIR,PAINT OR REPLACE.  OBSERVED RAW WOOD  SHELVES AND RAW WOOD ON WALLS IN BUTCHER'S AND REAR AREA, INSTRUCTED SURFACE MUST BE SMOOTH,CLEANABLE AND NON-ABSORBENT MATERIAL.  OBSERVED RUSTY SHELF ABOVE THE THREE COMPARTMENT SINK,ALSO THE INTERIOR OF WALK-IN DOOR IS RUSTY,INSTRUCTED TO REPLACE OR REFINISH SURFACE MUST BE SMOOTH CLEANABLE AND NON ABSORBENT MATERIAL. | 33. FOOD AND NON-FOOD CONTACT EQUIPMENT UTENSILS CLEAN, FREE OF ABRASIVE DETERGENTS - Comments: REMOVE RUST AND DEBRIS FROM  PRESENTLY UNUSED FOOD EQUIPMENT, IN REAR PREP AREA.  REMOVE ICE BUILD-UP FROM INSIDE THE CHEST FREEZER. | 34. FLOORS: CONSTRUCTED PER CODE, CLEANED, GOOD REPAIR, COVING INSTALLED, DUST-LESS CLEANING METHODS USED - Comments: OBSERVED UNEVEN FLOOR AROUND THE TOILET BOWL,UNDER THE THREE COMPARTMENT SINK, INSTRUCTED TO REPLACE WITH A SMOOTH, CLEANABLE AND NON-ABSORBENT SURFACE.  OBSERVED MISSING FLOOR TILE AND BROKEN CEMENT FRONT AREA OF SELLING AREA BY THE NORTH-WEST WINDOW AND FRONT DOOR.INSTRUCTED TO REPLACE FLOOR TILE WERE IS BROKEN AND MISSING THROUGHOUT THE PREMISES.KEEP FLOOR DRY UNDER THE THREE COMPARTMENT SINKS. | 34. FLOORS: CONSTRUCTED PER CODE, CLEANED, GOOD REPAIR, COVING INSTALLED, DUST-LESS CLEANING METHODS USED - Comments: OBSERVED ENCRUSTED BLOOD AND DEBRIS UNDER THE SHELVES, INSIDE THE WALK-IN FREEZER,INSTRUCTED TO CLEAN AND MAINTAIN | 35. WALLS, CEILINGS, ATTACHED EQUIPMENT CONSTRUCTED PER CODE: GOOD REPAIR, SURFACES CLEAN AND DUST-LESS CLEANING METHODS - Comments: REMOVE BLACK STAINES FROM CEILING IN WALK-IN COOLER, MAINTAIN SAID AREA. | 35. WALLS, CEILINGS, ATTACHED EQUIPMENT CONSTRUCTED PER CODE: GOOD REPAIR, SURFACES CLEAN AND DUST-LESS CLEANING METHODS - Comments: OBSERVED OPENINGS ON WALL AND CEILING INSTRUCTED TO SEAL,THROUGHOUT.WALLS IN REAR STORAGE/ICE MACHINE IS STORED,STORAGE BY THE REAR DOOR AND INSIDE THE STAFF WASHROOM WALLS ARE CRUMBLED PEELING PAINT,INSTRUCTED TO REPAIR WITH A SMOOTH, CLEANABLE NON ABSORBENT MATERIAL SURFACE. | 38. VENTILATION: ROOMS AND EQUIPMENT VENTED AS REQUIRED: PLUMBING: INSTALLED AND MAINTAINED - Comments: OBSERVED WINDOW INSIDE THE STAFF WASHROOM NOT ABLE TO OPEN,INSTRUCTED TO BE ABLE TO EASILY OPEN WINDOW OR VENTILATION IS NEEDED AT SAID WASHROOM. | 38. VENTILATION: ROOMS AND EQUIPMENT VENTED AS REQUIRED: PLUMBING: INSTALLED AND MAINTAINED - Comments: A BACK FLOW PREVENTION  DEVICE IS NEEDED AT ICE MACHINE | 38. VENTILATION: ROOMS AND EQUIPMENT VENTED AS REQUIRED: PLUMBING: INSTALLED AND MAINTAINED - Comments:   NEED TO INSTALL A MOP SINK.INSTRUCTED TO FOLLOW CITY PLUMBING.MOP SINK MUST HAVE A BACK FLOW PREVENTION DEVICE. | 38. VENTILATION: ROOMS AND EQUIPMENT VENTED AS REQUIRED: PLUMBING: INSTALLED AND MAINTAINED - Comments: OBSERVED FAUCET WRAPPED WITH DIRTY PLASTIC DUE TO HEAVELY LEAKING.INSTRUCTED TO REMOVE PLASTICE AND FIX SAID FAUCET.REPAIR WATER PIPE LEAKING UNDER THE THREE COMPARTMENT SINKS,MIDDLE SINK | 42. APPROPRIATE METHOD OF HANDLING OF FOOD (ICE) HAIR RESTRAINTS AND CLEAN APPAREL WORN - Comments: PERSONAL ITEMS MUST BE STORED AWAY FROM FOOD AND FOOD PRODUCTS.",
         "41.99740137039031",
         "-87.70238538227812"
        ],
        [
         "3",
         "HAPPY MARKET",
         "2912802",
         "Grocery Store",
         "Risk 2 (Medium)",
         "2334 S WENTWORTH AVE",
         "CHICAGO",
         "60616",
         "01/02/2025",
         "Pass w/ Conditions",
         "2. CITY OF CHICAGO FOOD SERVICE SANITATION CERTIFICATE - Comments: UPON ARRIVAL, OBSERVED NO CITY OF CHICAGO CERTIFIED FOOD MANAGER ON SITE WHILE OPEN AND OPERATING. INSTRUCTED A CITY OF CHICAGO CERTIFIED FOOD MANAGER MUST BE ON SITE AT ALL TIMES WHILE OPEN AND OPERATING.  PRIORITY FOUNDATION VIOLATION 7-38-012, CITATION ISSUED | 10. ADEQUATE HANDWASHING SINKS PROPERLY SUPPLIED AND ACCESSIBLE - Comments: 6-301.14: OBSERVED NO HANDWASHING SIGNS AT EXPOSED HANDSINK IN THE BASEMENT OR IN EMPLOYEE WASHROOM; INSTRUCTED TO PROVIDE. | 38. INSECTS, RODENTS, & ANIMALS NOT PRESENT - Comments: 6-501.112: OBSERVED DEAD ROACHES INSIDE THE MOP SINK BASIN IN THE BUTCHER AREA, STICKY TRAPS IN BASEMENT FLOORS, ON THE WALL NEAR THE HOOD IN THE BASEMENT PREP AREA. INSTRUCTED TO REMOVE DEAD ROACHES AND MAINTAIN. | 49. NON-FOOD/FOOD CONTACT SURFACES CLEAN - Comments: OBSERVED SHELF UNDER FOOD PREP TABLE BEHIND BUTCHER AREA WITH RUST. ALSO, OBSERVED DEBRIS ON THE SHELVES IN THE SHOPPING AISLES. INSTRUCTED TO REMOVE RUST AND DEBRIS AND MAKE SURFACE SMOOTH AND EASILY CLEANABLE.",
         "41.84995400192252",
         "-87.63209419559098"
        ],
        [
         "4",
         "SAT KAIVAL FOOD INC/SUBWAY",
         "2728400",
         "Restaurant",
         "Risk 1 (High)",
         "1916 S STATE ST",
         "CHICAGO",
         "60616",
         "01/02/2025",
         "Pass",
         "36. THERMOMETERS PROVIDED & ACCURATE - Comments: OBSERVED NO AMBIENT AIR THERMOMETER INSIDE THE COLD HOLDING UNITS ON SITE. INSTRUCTED TO PROVIDE AND MAINTAIN. | 53. TOILET FACILITIES: PROPERLY CONSTRUCTED, SUPPLIED, & CLEANED - Comments: OBSERVED THE TOILET SEAT AND TOILET FIXTURES IN THE WOMEN'S TOILET ROOM IN NEED OF CLEANING. DRIED BODILY FLUID OBSERVED ON THE MENTIONED FIXTURES. INSTRUCTED TO CLEAN AND MAINTAIN.",
         "41.85605269621059",
         "-87.62731125804903"
        ]
       ],
       "shape": {
        "columns": 12,
        "rows": 5
       }
      },
      "text/html": [
       "<div>\n",
       "<style scoped>\n",
       "    .dataframe tbody tr th:only-of-type {\n",
       "        vertical-align: middle;\n",
       "    }\n",
       "\n",
       "    .dataframe tbody tr th {\n",
       "        vertical-align: top;\n",
       "    }\n",
       "\n",
       "    .dataframe thead th {\n",
       "        text-align: right;\n",
       "    }\n",
       "</style>\n",
       "<table border=\"1\" class=\"dataframe\">\n",
       "  <thead>\n",
       "    <tr style=\"text-align: right;\">\n",
       "      <th></th>\n",
       "      <th>dba_name</th>\n",
       "      <th>license_</th>\n",
       "      <th>facility_type</th>\n",
       "      <th>risk</th>\n",
       "      <th>address</th>\n",
       "      <th>city</th>\n",
       "      <th>zip</th>\n",
       "      <th>inspection_date</th>\n",
       "      <th>results</th>\n",
       "      <th>violations</th>\n",
       "      <th>latitude</th>\n",
       "      <th>longitude</th>\n",
       "    </tr>\n",
       "  </thead>\n",
       "  <tbody>\n",
       "    <tr>\n",
       "      <th>0</th>\n",
       "      <td>BLOOMING BUD DAYCARE</td>\n",
       "      <td>2215789</td>\n",
       "      <td>Daycare Combo 1586</td>\n",
       "      <td>Risk 1 (High)</td>\n",
       "      <td>5715 N LINCOLN AVE</td>\n",
       "      <td>CHICAGO</td>\n",
       "      <td>60659</td>\n",
       "      <td>03/07/2013</td>\n",
       "      <td>Pass</td>\n",
       "      <td>32. FOOD AND NON-FOOD CONTACT SURFACES PROPERL...</td>\n",
       "      <td>41.985390</td>\n",
       "      <td>-87.698734</td>\n",
       "    </tr>\n",
       "    <tr>\n",
       "      <th>1</th>\n",
       "      <td>Babas Halal</td>\n",
       "      <td>2684170</td>\n",
       "      <td>Restaurant</td>\n",
       "      <td>Risk 1 (High)</td>\n",
       "      <td>7901 S DAMEN AVE</td>\n",
       "      <td>CHICAGO</td>\n",
       "      <td>60620</td>\n",
       "      <td>12/03/2024</td>\n",
       "      <td>Fail</td>\n",
       "      <td>1. PERSON IN CHARGE PRESENT, DEMONSTRATES KNOW...</td>\n",
       "      <td>41.750189</td>\n",
       "      <td>-87.672986</td>\n",
       "    </tr>\n",
       "    <tr>\n",
       "      <th>2</th>\n",
       "      <td>FIRST ZABIHA MEAT BAZAAR</td>\n",
       "      <td>2232559</td>\n",
       "      <td>Grocery Store</td>\n",
       "      <td>Risk 2 (Medium)</td>\n",
       "      <td>2907 W DEVON AVE</td>\n",
       "      <td>CHICAGO</td>\n",
       "      <td>60659</td>\n",
       "      <td>02/20/2013</td>\n",
       "      <td>Fail</td>\n",
       "      <td>11. ADEQUATE NUMBER, CONVENIENT, ACCESSIBLE, D...</td>\n",
       "      <td>41.997401</td>\n",
       "      <td>-87.702385</td>\n",
       "    </tr>\n",
       "    <tr>\n",
       "      <th>3</th>\n",
       "      <td>HAPPY MARKET</td>\n",
       "      <td>2912802</td>\n",
       "      <td>Grocery Store</td>\n",
       "      <td>Risk 2 (Medium)</td>\n",
       "      <td>2334 S WENTWORTH AVE</td>\n",
       "      <td>CHICAGO</td>\n",
       "      <td>60616</td>\n",
       "      <td>01/02/2025</td>\n",
       "      <td>Pass w/ Conditions</td>\n",
       "      <td>2. CITY OF CHICAGO FOOD SERVICE SANITATION CER...</td>\n",
       "      <td>41.849954</td>\n",
       "      <td>-87.632094</td>\n",
       "    </tr>\n",
       "    <tr>\n",
       "      <th>4</th>\n",
       "      <td>SAT KAIVAL FOOD INC/SUBWAY</td>\n",
       "      <td>2728400</td>\n",
       "      <td>Restaurant</td>\n",
       "      <td>Risk 1 (High)</td>\n",
       "      <td>1916 S STATE ST</td>\n",
       "      <td>CHICAGO</td>\n",
       "      <td>60616</td>\n",
       "      <td>01/02/2025</td>\n",
       "      <td>Pass</td>\n",
       "      <td>36. THERMOMETERS PROVIDED &amp; ACCURATE - Comment...</td>\n",
       "      <td>41.856053</td>\n",
       "      <td>-87.627311</td>\n",
       "    </tr>\n",
       "  </tbody>\n",
       "</table>\n",
       "</div>"
      ],
      "text/plain": [
       "                     dba_name  license_       facility_type             risk  \\\n",
       "0        BLOOMING BUD DAYCARE   2215789  Daycare Combo 1586    Risk 1 (High)   \n",
       "1                 Babas Halal   2684170          Restaurant    Risk 1 (High)   \n",
       "2    FIRST ZABIHA MEAT BAZAAR   2232559       Grocery Store  Risk 2 (Medium)   \n",
       "3                HAPPY MARKET   2912802       Grocery Store  Risk 2 (Medium)   \n",
       "4  SAT KAIVAL FOOD INC/SUBWAY   2728400          Restaurant    Risk 1 (High)   \n",
       "\n",
       "                address     city    zip inspection_date             results  \\\n",
       "0    5715 N LINCOLN AVE  CHICAGO  60659      03/07/2013                Pass   \n",
       "1      7901 S DAMEN AVE  CHICAGO  60620      12/03/2024                Fail   \n",
       "2      2907 W DEVON AVE  CHICAGO  60659      02/20/2013                Fail   \n",
       "3  2334 S WENTWORTH AVE  CHICAGO  60616      01/02/2025  Pass w/ Conditions   \n",
       "4       1916 S STATE ST  CHICAGO  60616      01/02/2025                Pass   \n",
       "\n",
       "                                          violations   latitude  longitude  \n",
       "0  32. FOOD AND NON-FOOD CONTACT SURFACES PROPERL...  41.985390 -87.698734  \n",
       "1  1. PERSON IN CHARGE PRESENT, DEMONSTRATES KNOW...  41.750189 -87.672986  \n",
       "2  11. ADEQUATE NUMBER, CONVENIENT, ACCESSIBLE, D...  41.997401 -87.702385  \n",
       "3  2. CITY OF CHICAGO FOOD SERVICE SANITATION CER...  41.849954 -87.632094  \n",
       "4  36. THERMOMETERS PROVIDED & ACCURATE - Comment...  41.856053 -87.627311  "
      ]
     },
     "execution_count": 2,
     "metadata": {},
     "output_type": "execute_result"
    }
   ],
   "source": [
    "file_path = \"../../data/Food_Inspections_20250216_preprocessed.parquet\"\n",
    "df = pd.read_parquet(file_path)\n",
    "df.head()"
   ]
  },
  {
   "cell_type": "code",
   "execution_count": 3,
   "metadata": {},
   "outputs": [],
   "source": [
    "\n",
    "def find_fds(df, algorithm_name='Default'):\n",
    "    \"\"\"\n",
    "    Finds functional dependencies in a given DataFrame using a specified algorithm.\n",
    "    \n",
    "    Parameters:\n",
    "        df (pd.DataFrame): The input DataFrame.\n",
    "        algorithm_name (str): The name of the FD algorithm to use. Defaults to 'Default'. Options are \n",
    "    \n",
    "    Returns:\n",
    "        list: A list of discovered functional dependencies.\n",
    "    \"\"\"\n",
    "    try:\n",
    "        # Get the algorithm class dynamically from desbordante.fd.algorithms\n",
    "        algo_class = getattr(fd_algorithms, algorithm_name, fd_algorithms.Default)\n",
    "\n",
    "        print(f\"Algorthm: {algo_class}\")\n",
    "        \n",
    "        algo = algo_class()\n",
    "        algo.load_data(table=df)\n",
    "        algo.execute()\n",
    "        return algo.get_fds()\n",
    "    except AttributeError:\n",
    "        raise ValueError(f\"Algorithm '{algorithm_name}' not found. Available algorithms: {dir(fd_algorithms)}\")"
   ]
  },
  {
   "cell_type": "code",
   "execution_count": 4,
   "metadata": {},
   "outputs": [],
   "source": [
    "@dataclass\n",
    "class FunctionalDependency:\n",
    "    lhs: List[str]  # Left-hand side attributes\n",
    "    rhs: str        # Right-hand side attribute\n",
    "\n",
    "    def __str__(self):\n",
    "       lhs_count = len(self.lhs)\n",
    "       base = f\"LHS={self.lhs} ({lhs_count}), RHS={self.rhs}\"\n",
    "       return base\n",
    "    \n",
    "@dataclass\n",
    "class FunctionalDependencySet:\n",
    "    dependencies: List[FunctionalDependency] = field(default_factory=list)\n",
    "    validation_results: Dict[Tuple[Tuple[str, ...], str], Dict[str, Any]] = field(default_factory=dict)\n",
    "\n",
    "    def add_dependency(self, lhs: List[str], rhs: str):\n",
    "        \"\"\"Adds a new functional dependency to the set.\"\"\"\n",
    "        self.dependencies.append(FunctionalDependency(lhs, rhs))\n",
    "\n",
    "    def __len__(self):\n",
    "        \"\"\"Returns the number of functional dependencies.\"\"\"\n",
    "        return len(self.dependencies)\n",
    "\n",
    "    def __iter__(self):\n",
    "        \"\"\"Allows iteration over functional dependencies.\"\"\"\n",
    "        return iter(self.dependencies)\n",
    "    \n",
    "    def validate_fd_dependencies(self, df):\n",
    "        \"\"\"Validates all functional dependencies in the dataset and stores the results.\"\"\"\n",
    "        GREEN_CODE = \"\\033[1;42m\"\n",
    "        RED_CODE = \"\\033[1;41m\"\n",
    "        DEFAULT_COLOR_CODE = \"\\033[1;49m\"\n",
    "\n",
    "        verifier = desbordante.fd_verification.algorithms.Default()\n",
    "          \n",
    "        verifier.load_data(table=df)\n",
    "\n",
    "        for fd in self.dependencies:\n",
    "            lhs_idx = df.columns.get_indexer(fd.lhs)\n",
    "            rhs_idx = df.columns.get_loc(fd.rhs)\n",
    "\n",
    "            if lhs_idx[0] == -1:\n",
    "                continue\n",
    "\n",
    "            verifier.execute(lhs_indices=lhs_idx, rhs_indices=[rhs_idx])\n",
    "            highlights = verifier.get_highlights()\n",
    "\n",
    "            fd_key = (tuple(fd.lhs), fd.rhs)\n",
    "            self.validation_results[fd_key] = {\n",
    "                \"holds\": verifier.fd_holds(),\n",
    "                \"num_violations\": verifier.get_num_error_clusters(),\n",
    "                \"highlights\": highlights\n",
    "            }\n",
    "\n",
    "            if self.validation_results[fd_key][\"holds\"]:\n",
    "                print(GREEN_CODE, f\"FD holds: {fd.lhs} -> {fd.rhs}\", DEFAULT_COLOR_CODE)\n",
    "            else:\n",
    "                print(RED_CODE, f\"FD does not hold: {fd.lhs} -> {fd.rhs}\", DEFAULT_COLOR_CODE)\n",
    "                print(f\"Number of clusters violating FD: {self.validation_results[fd_key]['num_violations']}\")\n",
    "\n",
    "    def get_validation_result(self, lhs: List[str], rhs: str) -> Dict[str, Any]:\n",
    "        \"\"\"Retrieves stored validation results for a specific FD.\"\"\"\n",
    "        fd_key = (tuple(lhs), rhs)\n",
    "        return self.validation_results.get(fd_key, {})\n",
    "\n",
    "    def get_all_validation_results(self) -> Dict[Tuple[str, str], Dict[str, Any]]:\n",
    "        \"\"\"Returns all stored validation results.\"\"\"\n",
    "        return self.validation_results\n"
   ]
  },
  {
   "cell_type": "code",
   "execution_count": 5,
   "metadata": {},
   "outputs": [],
   "source": [
    "def convert_fd(fd:desbordante.fd.FD) -> Tuple[list, str]:\n",
    "    fd_str = str(fd) # convert fd to string\n",
    "    fd_str_split = fd_str.split(\"->\") # split fd to lhs and rhs\n",
    "    lhs = fd_str_split[0].strip() \n",
    "    rhs = fd_str_split[-1].strip()\n",
    "\n",
    "    lhs_list = lhs[1:-1].split(' ') # convert lhs to list of attributes\n",
    "\n",
    "    return lhs_list, rhs"
   ]
  },
  {
   "cell_type": "code",
   "execution_count": 6,
   "metadata": {},
   "outputs": [
    {
     "name": "stdout",
     "output_type": "stream",
     "text": [
      "Algorthm: <class 'desbordante.fd.algorithms.HyFD'>\n",
      "There are 35 functional dependencies using Default algorithm.\n",
      "[dba_name license_ address violations] -> zip\n",
      "[dba_name license_ violations latitude] -> zip\n",
      "[dba_name license_ violations longitude] -> zip\n",
      "[dba_name license_ facility_type inspection_date results violations] -> zip\n",
      "[license_ address inspection_date violations] -> city\n",
      "[license_ facility_type address violations] -> zip\n",
      "[license_ risk address violations] -> zip\n",
      "[license_ inspection_date violations latitude] -> zip\n",
      "[license_ facility_type violations latitude] -> zip\n",
      "[license_ risk results violations latitude] -> zip\n",
      "[license_ inspection_date violations longitude] -> zip\n",
      "[license_ facility_type violations longitude] -> zip\n",
      "[license_ risk results violations longitude] -> zip\n",
      "[dba_name facility_type address violations] -> zip\n",
      "[dba_name address results violations] -> zip\n",
      "[dba_name license_ inspection_date latitude] -> zip\n",
      "[dba_name license_ inspection_date longitude] -> zip\n",
      "[dba_name license_ results] -> city\n",
      "[license_ address inspection_date] -> zip\n",
      "[license_ facility_type address] -> city\n",
      "[license_ inspection_date results latitude] -> zip\n",
      "[license_ facility_type results latitude] -> city\n",
      "[license_ inspection_date results longitude] -> zip\n",
      "[license_ facility_type results longitude] -> city\n",
      "[license_ inspection_date results] -> city\n",
      "[license_ facility_type zip results] -> city\n",
      "[dba_name address] -> city\n",
      "[dba_name address inspection_date] -> zip\n",
      "[dba_name facility_type inspection_date results latitude] -> city\n",
      "[dba_name facility_type inspection_date results longitude] -> city\n",
      "[dba_name facility_type zip inspection_date results] -> city\n",
      "[address] -> latitude\n",
      "[address] -> longitude\n",
      "[latitude] -> longitude\n",
      "[longitude] -> latitude\n"
     ]
    }
   ],
   "source": [
    "results = find_fds(df)\n",
    "\n",
    "print(f\"There are {len(results)} functional dependencies using Default algorithm.\")\n",
    "\n",
    "for fd in results:\n",
    "    print(fd)"
   ]
  },
  {
   "cell_type": "markdown",
   "metadata": {},
   "source": [
    "retrieve column index to validate FD"
   ]
  },
  {
   "cell_type": "code",
   "execution_count": 7,
   "metadata": {},
   "outputs": [],
   "source": [
    "fd_set = FunctionalDependencySet()\n",
    "for result in results:\n",
    "    lhs, rhs =  convert_fd(fd=result)\n",
    "    fd_set.add_dependency(lhs, rhs)"
   ]
  },
  {
   "cell_type": "code",
   "execution_count": 10,
   "metadata": {},
   "outputs": [
    {
     "name": "stdout",
     "output_type": "stream",
     "text": [
      "\u001b[1;42m FD holds: ['dba_name', 'license_', 'address', 'violations'] -> zip \u001b[1;49m\n",
      "\u001b[1;42m FD holds: ['dba_name', 'license_', 'violations', 'latitude'] -> zip \u001b[1;49m\n",
      "\u001b[1;42m FD holds: ['dba_name', 'license_', 'violations', 'longitude'] -> zip \u001b[1;49m\n",
      "\u001b[1;42m FD holds: ['dba_name', 'license_', 'facility_type', 'inspection_date', 'results', 'violations'] -> zip \u001b[1;49m\n",
      "\u001b[1;42m FD holds: ['license_', 'address', 'inspection_date', 'violations'] -> city \u001b[1;49m\n",
      "\u001b[1;42m FD holds: ['license_', 'facility_type', 'address', 'violations'] -> zip \u001b[1;49m\n",
      "\u001b[1;42m FD holds: ['license_', 'risk', 'address', 'violations'] -> zip \u001b[1;49m\n",
      "\u001b[1;42m FD holds: ['license_', 'inspection_date', 'violations', 'latitude'] -> zip \u001b[1;49m\n",
      "\u001b[1;42m FD holds: ['license_', 'facility_type', 'violations', 'latitude'] -> zip \u001b[1;49m\n",
      "\u001b[1;42m FD holds: ['license_', 'risk', 'results', 'violations', 'latitude'] -> zip \u001b[1;49m\n",
      "\u001b[1;42m FD holds: ['license_', 'inspection_date', 'violations', 'longitude'] -> zip \u001b[1;49m\n",
      "\u001b[1;42m FD holds: ['license_', 'facility_type', 'violations', 'longitude'] -> zip \u001b[1;49m\n",
      "\u001b[1;42m FD holds: ['license_', 'risk', 'results', 'violations', 'longitude'] -> zip \u001b[1;49m\n",
      "\u001b[1;42m FD holds: ['dba_name', 'facility_type', 'address', 'violations'] -> zip \u001b[1;49m\n",
      "\u001b[1;42m FD holds: ['dba_name', 'address', 'results', 'violations'] -> zip \u001b[1;49m\n",
      "\u001b[1;42m FD holds: ['dba_name', 'license_', 'inspection_date', 'latitude'] -> zip \u001b[1;49m\n",
      "\u001b[1;42m FD holds: ['dba_name', 'license_', 'inspection_date', 'longitude'] -> zip \u001b[1;49m\n",
      "\u001b[1;42m FD holds: ['dba_name', 'license_', 'results'] -> city \u001b[1;49m\n",
      "\u001b[1;42m FD holds: ['license_', 'address', 'inspection_date'] -> zip \u001b[1;49m\n",
      "\u001b[1;42m FD holds: ['license_', 'facility_type', 'address'] -> city \u001b[1;49m\n",
      "\u001b[1;42m FD holds: ['license_', 'inspection_date', 'results', 'latitude'] -> zip \u001b[1;49m\n",
      "\u001b[1;42m FD holds: ['license_', 'facility_type', 'results', 'latitude'] -> city \u001b[1;49m\n",
      "\u001b[1;42m FD holds: ['license_', 'inspection_date', 'results', 'longitude'] -> zip \u001b[1;49m\n",
      "\u001b[1;42m FD holds: ['license_', 'facility_type', 'results', 'longitude'] -> city \u001b[1;49m\n",
      "\u001b[1;42m FD holds: ['license_', 'inspection_date', 'results'] -> city \u001b[1;49m\n",
      "\u001b[1;42m FD holds: ['license_', 'facility_type', 'zip', 'results'] -> city \u001b[1;49m\n",
      "\u001b[1;42m FD holds: ['dba_name', 'address'] -> city \u001b[1;49m\n",
      "\u001b[1;42m FD holds: ['dba_name', 'address', 'inspection_date'] -> zip \u001b[1;49m\n",
      "\u001b[1;42m FD holds: ['dba_name', 'facility_type', 'inspection_date', 'results', 'latitude'] -> city \u001b[1;49m\n",
      "\u001b[1;42m FD holds: ['dba_name', 'facility_type', 'inspection_date', 'results', 'longitude'] -> city \u001b[1;49m\n",
      "\u001b[1;42m FD holds: ['dba_name', 'facility_type', 'zip', 'inspection_date', 'results'] -> city \u001b[1;49m\n",
      "\u001b[1;42m FD holds: ['address'] -> latitude \u001b[1;49m\n",
      "\u001b[1;42m FD holds: ['address'] -> longitude \u001b[1;49m\n",
      "\u001b[1;42m FD holds: ['latitude'] -> longitude \u001b[1;49m\n",
      "\u001b[1;42m FD holds: ['longitude'] -> latitude \u001b[1;49m\n"
     ]
    }
   ],
   "source": [
    "# Validate all dependencies and store results\n",
    "fd_set.validate_fd_dependencies(df)"
   ]
  },
  {
   "cell_type": "code",
   "execution_count": 11,
   "metadata": {},
   "outputs": [
    {
     "name": "stdout",
     "output_type": "stream",
     "text": [
      "There are 35 fds in the dataset.\n"
     ]
    }
   ],
   "source": [
    "print(f\"There are {len(fd_set)} fds in the dataset.\")"
   ]
  },
  {
   "cell_type": "code",
   "execution_count": 12,
   "metadata": {},
   "outputs": [
    {
     "name": "stdout",
     "output_type": "stream",
     "text": [
      "{'holds': True, 'num_violations': 0, 'highlights': []}\n"
     ]
    }
   ],
   "source": [
    "# Retrieve validation result for a specific FD\n",
    "result = fd_set.get_validation_result(lhs=['dba_name', 'license_', 'address', 'violations'],rhs=\"zip\")\n",
    "print(result)"
   ]
  },
  {
   "cell_type": "code",
   "execution_count": 13,
   "metadata": {},
   "outputs": [
    {
     "name": "stdout",
     "output_type": "stream",
     "text": [
      "FD: ('dba_name', 'license_', 'address', 'violations') -> zip, Results: {'holds': True, 'num_violations': 0}\n",
      "FD: ('dba_name', 'license_', 'violations', 'latitude') -> zip, Results: {'holds': True, 'num_violations': 0}\n",
      "FD: ('dba_name', 'license_', 'violations', 'longitude') -> zip, Results: {'holds': True, 'num_violations': 0}\n",
      "FD: ('dba_name', 'license_', 'facility_type', 'inspection_date', 'results', 'violations') -> zip, Results: {'holds': True, 'num_violations': 0}\n",
      "FD: ('license_', 'address', 'inspection_date', 'violations') -> city, Results: {'holds': True, 'num_violations': 0}\n",
      "FD: ('license_', 'facility_type', 'address', 'violations') -> zip, Results: {'holds': True, 'num_violations': 0}\n",
      "FD: ('license_', 'risk', 'address', 'violations') -> zip, Results: {'holds': True, 'num_violations': 0}\n",
      "FD: ('license_', 'inspection_date', 'violations', 'latitude') -> zip, Results: {'holds': True, 'num_violations': 0}\n",
      "FD: ('license_', 'facility_type', 'violations', 'latitude') -> zip, Results: {'holds': True, 'num_violations': 0}\n",
      "FD: ('license_', 'risk', 'results', 'violations', 'latitude') -> zip, Results: {'holds': True, 'num_violations': 0}\n",
      "FD: ('license_', 'inspection_date', 'violations', 'longitude') -> zip, Results: {'holds': True, 'num_violations': 0}\n",
      "FD: ('license_', 'facility_type', 'violations', 'longitude') -> zip, Results: {'holds': True, 'num_violations': 0}\n",
      "FD: ('license_', 'risk', 'results', 'violations', 'longitude') -> zip, Results: {'holds': True, 'num_violations': 0}\n",
      "FD: ('dba_name', 'facility_type', 'address', 'violations') -> zip, Results: {'holds': True, 'num_violations': 0}\n",
      "FD: ('dba_name', 'address', 'results', 'violations') -> zip, Results: {'holds': True, 'num_violations': 0}\n",
      "FD: ('dba_name', 'license_', 'inspection_date', 'latitude') -> zip, Results: {'holds': True, 'num_violations': 0}\n",
      "FD: ('dba_name', 'license_', 'inspection_date', 'longitude') -> zip, Results: {'holds': True, 'num_violations': 0}\n",
      "FD: ('dba_name', 'license_', 'results') -> city, Results: {'holds': True, 'num_violations': 0}\n",
      "FD: ('license_', 'address', 'inspection_date') -> zip, Results: {'holds': True, 'num_violations': 0}\n",
      "FD: ('license_', 'facility_type', 'address') -> city, Results: {'holds': True, 'num_violations': 0}\n",
      "FD: ('license_', 'inspection_date', 'results', 'latitude') -> zip, Results: {'holds': True, 'num_violations': 0}\n",
      "FD: ('license_', 'facility_type', 'results', 'latitude') -> city, Results: {'holds': True, 'num_violations': 0}\n",
      "FD: ('license_', 'inspection_date', 'results', 'longitude') -> zip, Results: {'holds': True, 'num_violations': 0}\n",
      "FD: ('license_', 'facility_type', 'results', 'longitude') -> city, Results: {'holds': True, 'num_violations': 0}\n",
      "FD: ('license_', 'inspection_date', 'results') -> city, Results: {'holds': True, 'num_violations': 0}\n",
      "FD: ('license_', 'facility_type', 'zip', 'results') -> city, Results: {'holds': True, 'num_violations': 0}\n",
      "FD: ('dba_name', 'address') -> city, Results: {'holds': True, 'num_violations': 0}\n",
      "FD: ('dba_name', 'address', 'inspection_date') -> zip, Results: {'holds': True, 'num_violations': 0}\n",
      "FD: ('dba_name', 'facility_type', 'inspection_date', 'results', 'latitude') -> city, Results: {'holds': True, 'num_violations': 0}\n",
      "FD: ('dba_name', 'facility_type', 'inspection_date', 'results', 'longitude') -> city, Results: {'holds': True, 'num_violations': 0}\n",
      "FD: ('dba_name', 'facility_type', 'zip', 'inspection_date', 'results') -> city, Results: {'holds': True, 'num_violations': 0}\n",
      "FD: ('address',) -> latitude, Results: {'holds': True, 'num_violations': 0}\n",
      "FD: ('address',) -> longitude, Results: {'holds': True, 'num_violations': 0}\n",
      "FD: ('latitude',) -> longitude, Results: {'holds': True, 'num_violations': 0}\n",
      "FD: ('longitude',) -> latitude, Results: {'holds': True, 'num_violations': 0}\n"
     ]
    }
   ],
   "source": [
    "all_results = fd_set.get_all_validation_results()\n",
    "\n",
    "for (lhs, rhs), result in all_results.items():\n",
    "    # Create a copy of result without the 'highlights' key\n",
    "    filtered_result = {key: value for key, value in result.items() if key != \"highlights\"}\n",
    "    \n",
    "    print(f\"FD: {lhs} -> {rhs}, Results: {filtered_result}\")\n"
   ]
  }
 ],
 "metadata": {
  "kernelspec": {
   "display_name": ".venv",
   "language": "python",
   "name": "python3"
  },
  "language_info": {
   "codemirror_mode": {
    "name": "ipython",
    "version": 3
   },
   "file_extension": ".py",
   "mimetype": "text/x-python",
   "name": "python",
   "nbconvert_exporter": "python",
   "pygments_lexer": "ipython3",
   "version": "3.10.14"
  }
 },
 "nbformat": 4,
 "nbformat_minor": 2
}
